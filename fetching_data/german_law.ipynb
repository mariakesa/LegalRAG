{
 "cells": [
  {
   "cell_type": "code",
   "execution_count": null,
   "metadata": {},
   "outputs": [],
   "source": [
    "non_discrimination_law=\"https://www.gesetze-im-internet.de/englisch_agg/englisch_agg.html#p0077\"\n",
    "federal_data_protection_act=\"https://www.gesetze-im-internet.de/englisch_bdsg/index.html\""
   ]
  }
 ],
 "metadata": {
  "language_info": {
   "name": "python"
  }
 },
 "nbformat": 4,
 "nbformat_minor": 2
}
