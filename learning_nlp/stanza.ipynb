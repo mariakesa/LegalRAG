{
 "cells": [
  {
   "cell_type": "code",
   "execution_count": 1,
   "metadata": {},
   "outputs": [
    {
     "name": "stderr",
     "output_type": "stream",
     "text": [
      "/home/maria/Documents/LegalRAG/.venv/lib/python3.12/site-packages/tqdm/auto.py:21: TqdmWarning: IProgress not found. Please update jupyter and ipywidgets. See https://ipywidgets.readthedocs.io/en/stable/user_install.html\n",
      "  from .autonotebook import tqdm as notebook_tqdm\n",
      "Downloading https://raw.githubusercontent.com/stanfordnlp/stanza-resources/main/resources_1.6.0.json: 367kB [00:00, 166MB/s]                     \n",
      "2024-10-21 15:19:32 INFO: Downloading default packages for language: et (Estonian) ...\n",
      "Downloading https://huggingface.co/stanfordnlp/stanza-et/resolve/v1.6.0/models/default.zip: 100%|██████████| 212M/212M [00:09<00:00, 23.5MB/s] \n",
      "2024-10-21 15:19:44 INFO: Finished downloading models and saved to /home/maria/stanza_resources.\n",
      "2024-10-21 15:19:44 INFO: Checking for updates to resources.json in case models have been updated.  Note: this behavior can be turned off with download_method=None or download_method=DownloadMethod.REUSE_RESOURCES\n",
      "Downloading https://raw.githubusercontent.com/stanfordnlp/stanza-resources/main/resources_1.6.0.json: 367kB [00:00, 62.3MB/s]                    \n",
      "2024-10-21 15:19:45 INFO: Loading these models for language: et (Estonian):\n",
      "============================\n",
      "| Processor | Package      |\n",
      "----------------------------\n",
      "| tokenize  | edt          |\n",
      "| pos       | edt_nocharlm |\n",
      "| lemma     | edt_nocharlm |\n",
      "| depparse  | edt_nocharlm |\n",
      "============================\n",
      "\n",
      "2024-10-21 15:19:46 INFO: Using device: cuda\n",
      "2024-10-21 15:19:46 INFO: Loading: tokenize\n",
      "/home/maria/Documents/LegalRAG/.venv/lib/python3.12/site-packages/stanza/models/tokenization/trainer.py:82: FutureWarning: You are using `torch.load` with `weights_only=False` (the current default value), which uses the default pickle module implicitly. It is possible to construct malicious pickle data which will execute arbitrary code during unpickling (See https://github.com/pytorch/pytorch/blob/main/SECURITY.md#untrusted-models for more details). In a future release, the default value for `weights_only` will be flipped to `True`. This limits the functions that could be executed during unpickling. Arbitrary objects will no longer be allowed to be loaded via this mode unless they are explicitly allowlisted by the user via `torch.serialization.add_safe_globals`. We recommend you start setting `weights_only=True` for any use case where you don't have full control of the loaded file. Please open an issue on GitHub for any issues related to this experimental feature.\n",
      "  checkpoint = torch.load(filename, lambda storage, loc: storage)\n",
      "2024-10-21 15:19:48 INFO: Loading: pos\n",
      "/home/maria/Documents/LegalRAG/.venv/lib/python3.12/site-packages/stanza/models/pos/trainer.py:105: FutureWarning: You are using `torch.load` with `weights_only=False` (the current default value), which uses the default pickle module implicitly. It is possible to construct malicious pickle data which will execute arbitrary code during unpickling (See https://github.com/pytorch/pytorch/blob/main/SECURITY.md#untrusted-models for more details). In a future release, the default value for `weights_only` will be flipped to `True`. This limits the functions that could be executed during unpickling. Arbitrary objects will no longer be allowed to be loaded via this mode unless they are explicitly allowlisted by the user via `torch.serialization.add_safe_globals`. We recommend you start setting `weights_only=True` for any use case where you don't have full control of the loaded file. Please open an issue on GitHub for any issues related to this experimental feature.\n",
      "  checkpoint = torch.load(filename, lambda storage, loc: storage)\n",
      "/home/maria/Documents/LegalRAG/.venv/lib/python3.12/site-packages/stanza/models/common/pretrain.py:56: FutureWarning: You are using `torch.load` with `weights_only=False` (the current default value), which uses the default pickle module implicitly. It is possible to construct malicious pickle data which will execute arbitrary code during unpickling (See https://github.com/pytorch/pytorch/blob/main/SECURITY.md#untrusted-models for more details). In a future release, the default value for `weights_only` will be flipped to `True`. This limits the functions that could be executed during unpickling. Arbitrary objects will no longer be allowed to be loaded via this mode unless they are explicitly allowlisted by the user via `torch.serialization.add_safe_globals`. We recommend you start setting `weights_only=True` for any use case where you don't have full control of the loaded file. Please open an issue on GitHub for any issues related to this experimental feature.\n",
      "  data = torch.load(self.filename, lambda storage, loc: storage)\n",
      "2024-10-21 15:19:48 INFO: Loading: lemma\n",
      "/home/maria/Documents/LegalRAG/.venv/lib/python3.12/site-packages/stanza/models/lemma/trainer.py:227: FutureWarning: You are using `torch.load` with `weights_only=False` (the current default value), which uses the default pickle module implicitly. It is possible to construct malicious pickle data which will execute arbitrary code during unpickling (See https://github.com/pytorch/pytorch/blob/main/SECURITY.md#untrusted-models for more details). In a future release, the default value for `weights_only` will be flipped to `True`. This limits the functions that could be executed during unpickling. Arbitrary objects will no longer be allowed to be loaded via this mode unless they are explicitly allowlisted by the user via `torch.serialization.add_safe_globals`. We recommend you start setting `weights_only=True` for any use case where you don't have full control of the loaded file. Please open an issue on GitHub for any issues related to this experimental feature.\n",
      "  checkpoint = torch.load(filename, lambda storage, loc: storage)\n",
      "2024-10-21 15:19:48 INFO: Loading: depparse\n",
      "/home/maria/Documents/LegalRAG/.venv/lib/python3.12/site-packages/stanza/models/depparse/trainer.py:103: FutureWarning: You are using `torch.load` with `weights_only=False` (the current default value), which uses the default pickle module implicitly. It is possible to construct malicious pickle data which will execute arbitrary code during unpickling (See https://github.com/pytorch/pytorch/blob/main/SECURITY.md#untrusted-models for more details). In a future release, the default value for `weights_only` will be flipped to `True`. This limits the functions that could be executed during unpickling. Arbitrary objects will no longer be allowed to be loaded via this mode unless they are explicitly allowlisted by the user via `torch.serialization.add_safe_globals`. We recommend you start setting `weights_only=True` for any use case where you don't have full control of the loaded file. Please open an issue on GitHub for any issues related to this experimental feature.\n",
      "  checkpoint = torch.load(filename, lambda storage, loc: storage)\n",
      "2024-10-21 15:19:48 INFO: Done loading processors!\n"
     ]
    }
   ],
   "source": [
    "import stanza\n",
    "stanza.download('et')  # Download the English models\n",
    "\n",
    "nlp = stanza.Pipeline('et', processors='tokenize,pos,lemma,depparse')"
   ]
  },
  {
   "cell_type": "code",
   "execution_count": 6,
   "metadata": {},
   "outputs": [
    {
     "name": "stdout",
     "output_type": "stream",
     "text": [
      "{\n",
      "  \"id\": 1,\n",
      "  \"text\": \"Kontrakt\",\n",
      "  \"lemma\": \"kontrakt\",\n",
      "  \"upos\": \"NOUN\",\n",
      "  \"xpos\": \"S\",\n",
      "  \"feats\": \"Case=Nom|Number=Sing\",\n",
      "  \"head\": 2,\n",
      "  \"deprel\": \"obj\",\n",
      "  \"start_char\": 0,\n",
      "  \"end_char\": 8\n",
      "}\n",
      "{\n",
      "  \"id\": 2,\n",
      "  \"text\": \"tehti\",\n",
      "  \"lemma\": \"tegema\",\n",
      "  \"upos\": \"VERB\",\n",
      "  \"xpos\": \"V\",\n",
      "  \"feats\": \"Mood=Ind|Tense=Past|VerbForm=Fin|Voice=Pass\",\n",
      "  \"head\": 0,\n",
      "  \"deprel\": \"root\",\n",
      "  \"start_char\": 9,\n",
      "  \"end_char\": 14\n",
      "}\n",
      "{\n",
      "  \"id\": 3,\n",
      "  \"text\": \"tana\",\n",
      "  \"lemma\": \"tana\",\n",
      "  \"upos\": \"ADV\",\n",
      "  \"xpos\": \"D\",\n",
      "  \"head\": 2,\n",
      "  \"deprel\": \"advmod\",\n",
      "  \"start_char\": 15,\n",
      "  \"end_char\": 19\n",
      "}\n",
      "{\n",
      "  \"id\": 4,\n",
      "  \"text\": \".\",\n",
      "  \"lemma\": \".\",\n",
      "  \"upos\": \"PUNCT\",\n",
      "  \"xpos\": \"Z\",\n",
      "  \"head\": 2,\n",
      "  \"deprel\": \"punct\",\n",
      "  \"start_char\": 19,\n",
      "  \"end_char\": 20\n",
      "}\n"
     ]
    },
    {
     "data": {
      "text/plain": [
       "'Kontrakt'"
      ]
     },
     "execution_count": 6,
     "metadata": {},
     "output_type": "execute_result"
    }
   ],
   "source": [
    "def extract_subject_of_verb(doc, target_verb):\n",
    "    \"\"\"\n",
    "    Extracts the subject of a specified verb from a parsed Stanza document.\n",
    "\n",
    "    Parameters:\n",
    "    - doc: Parsed Stanza Document\n",
    "    - target_verb: The verb whose subject needs to be extracted\n",
    "\n",
    "    Returns:\n",
    "    - subject_phrase: The extracted subject as a string\n",
    "    \"\"\"\n",
    "    subject_phrase = \"\"\n",
    "    \n",
    "    for sent in doc.sentences:\n",
    "        # Iterate through each word to find the target verb\n",
    "        for word in sent.words:\n",
    "            print(word)\n",
    "            if word.text.lower() == target_verb.lower() and word.upos == 'VERB':\n",
    "                verb_id = word.id\n",
    "                # Find subjects connected to the verb\n",
    "                subjects = [w for w in sent.words if w.head == verb_id and w.deprel in ('obj')]\n",
    "                \n",
    "                for subj in subjects:\n",
    "                    # Collect all modifiers related to the subject\n",
    "                    subject_tokens = [subj]\n",
    "                    for w in sent.words:\n",
    "                        if w.head == subj.id and w.deprel in ('det', 'amod', 'compound', 'neg', 'nummod', 'appos'):\n",
    "                            subject_tokens.append(w)\n",
    "                    \n",
    "                    # Sort tokens based on their position in the sentence\n",
    "                    subject_tokens = sorted(subject_tokens, key=lambda x: x.id)\n",
    "                    \n",
    "                    # Concatenate the tokens to form the subject phrase\n",
    "                    subject_phrase = ' '.join([w.text for w in subject_tokens])\n",
    "    \n",
    "    return subject_phrase\n",
    "\n",
    "doc=nlp(\"Kontrakt tehti tana.\")\n",
    "subject = extract_subject_of_verb(doc, 'tehti')\n",
    "subject\n"
   ]
  }
 ],
 "metadata": {
  "kernelspec": {
   "display_name": ".venv",
   "language": "python",
   "name": "python3"
  },
  "language_info": {
   "codemirror_mode": {
    "name": "ipython",
    "version": 3
   },
   "file_extension": ".py",
   "mimetype": "text/x-python",
   "name": "python",
   "nbconvert_exporter": "python",
   "pygments_lexer": "ipython3",
   "version": "3.12.3"
  }
 },
 "nbformat": 4,
 "nbformat_minor": 2
}
